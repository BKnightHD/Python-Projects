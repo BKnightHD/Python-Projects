{
  "nbformat": 4,
  "nbformat_minor": 0,
  "metadata": {
    "colab": {
      "provenance": [],
      "authorship_tag": "ABX9TyM9Viv9Ym2Xpjy+wXQs5y4B",
      "include_colab_link": true
    },
    "kernelspec": {
      "name": "python3",
      "display_name": "Python 3"
    },
    "language_info": {
      "name": "python"
    }
  },
  "cells": [
    {
      "cell_type": "markdown",
      "metadata": {
        "id": "view-in-github",
        "colab_type": "text"
      },
      "source": [
        "<a href=\"https://colab.research.google.com/github/BKnightHD/Python-Projects/blob/main/Number_Guessing_Game_(personal_Try).ipynb\" target=\"_parent\"><img src=\"https://colab.research.google.com/assets/colab-badge.svg\" alt=\"Open In Colab\"/></a>"
      ]
    },
    {
      "cell_type": "markdown",
      "source": [
        "# Number Guessing Game\n",
        "- Prompt the user to guess a secret number between 1 and 10.\n",
        "- The program will have 3 chances to guess.\n",
        "- If the player choses yes, then continue with the program, if no, then stop the program, if anything else, ask them to type in a correct repsponse."
      ],
      "metadata": {
        "id": "fJH7sK1Nleoo"
      }
    },
    {
      "cell_type": "code",
      "source": [
        "ask_counter = 0\n",
        "user_prompt = input(\"Hello!\\nThis program is designed to play a number guessing game.\\n\" +\n",
        "                    \"Please choose a number between 0 and 10!\\n\" +\n",
        "                    \"I will then have 3 chances to guess your number.\\n\"+\n",
        "                    \"Would you like to play? \"\n",
        "                    )\n",
        "\n",
        "while ask_counter < 3: # while loop to ensure user is providing a proper answer. Asks only 2 times\n",
        "#####\n",
        "  if user_prompt == 'y' or user_prompt =='yes': # code for guessing game\n",
        "    ask_counter = 3\n",
        "    print(\"Great, lets play\")\n",
        "  elif user_prompt == 'n' or user_prompt =='no':\n",
        "    ask_counter = 3\n",
        "    print(\"Thank you for your time!\")\n",
        "  else:\n",
        "    ask_counter += 1\n",
        "    user_second_prompt = input(\"I don't know how to interpret that answer, please provide yes or no. \")\n",
        "#####\n",
        "    if user_second_prompt == 'y' or user_second_prompt =='yes': # code for guessing game\n",
        "      ask_counter = 3\n",
        "      print(\"Great, lets play\")\n",
        "    elif user_prompt == 'n' or user_prompt =='no':\n",
        "      ask_counter = 3\n",
        "      print(\"Thank you for your time!\")\n",
        "    else:\n",
        "      ask_counter += 1\n",
        "      user_third_prompt = input(\"I don't know how to interpret that answer, please provide yes or no. \")\n",
        "#####\n",
        "      if user_third_prompt == 'y' or user_second_prompt =='yes': # code for guessing game\n",
        "        ask_counter = 3\n",
        "        print(\"Great, lets play\")\n",
        "      elif user_prompt == 'n' or user_prompt =='no':\n",
        "        ask_counter = 3\n",
        "        print(\"Thank you for your time!\")\n",
        "      else:\n",
        "        ask_counter += 1\n",
        "\n",
        "print(\"I'm sorry, I can't interpret your answer. Goodbye.\")\n",
        "\n",
        "########################################"
      ],
      "metadata": {
        "colab": {
          "base_uri": "https://localhost:8080/"
        },
        "id": "TLLmFX2KlqYh",
        "outputId": "eea00ec3-a9df-4339-f409-c21be288abe4"
      },
      "execution_count": null,
      "outputs": [
        {
          "output_type": "stream",
          "name": "stdout",
          "text": [
            "Hello!\n",
            "This program is designed to play a number guessing game.\n",
            "Please choose a number between 0 and 10!\n",
            "I will then have 3 chances to guess your number.\n",
            "Would you like to play? n\n",
            "Thank you for your time!\n",
            "I'm sorry, I can't interpret your answer. Goodbye.\n"
          ]
        }
      ]
    },
    {
      "cell_type": "markdown",
      "source": [
        "# 2nd implimentation"
      ],
      "metadata": {
        "id": "Z--mp7nCpkfW"
      }
    },
    {
      "cell_type": "code",
      "source": [
        "def validate_function(user_answer, counter):\n",
        "\n",
        "  while user_answer not in valid_responses or counter < 3:\n",
        "    counter += 1\n",
        "    user_answer = input(\"I don't know how to interpret that answer, please provide yes or no. \").lower()\n",
        "    if user_answer in no:\n",
        "      break\n",
        "    elif user_answer in yes:\n",
        "      break\n",
        "    elif counter >= 3:\n",
        "      print(\"I'm sorry, I can't interpret your answer. Goodbye.\")\n",
        "  return user_answer\n",
        "\n",
        "\n",
        "# definining varibales\n",
        "valid_responses = ['yes', 'y', 'no', 'n']\n",
        "yes = valid_responses[:2]\n",
        "no = valid_responses[-2:]\n",
        "counter = 0\n",
        "\n",
        "\n",
        "# first user input\n",
        "user_answer = input(\"Hello!\\nThis program is designed to play a number guessing game.\\n\" +\n",
        "                    \"Please choose a number between 0 and 10!\\n\" +\n",
        "                    \"I will then have 3 chances to guess your number.\\n\"+\n",
        "                    \"Would you like to play? \"\n",
        "                    ).lower() # to make code case insensitive\n",
        "\n",
        "\n",
        "if user_answer not in valid_responses:\n",
        "  validate_function(user_answer, counter)\n",
        "\n",
        "elif user_answer in no:\n",
        "  print(\"Ahh that's too bad. Have a nice day!\")\n",
        "\n",
        "elif user_answer in yes:\n",
        "\n",
        "  user_answer = validate_function(user_answer, counter)\n",
        "\n",
        "  # code for full program begins..\n",
        "  print(\"Great, let's begin!\")\n",
        "  print(\"Think of a number between 1 and 15.\\nType anything and press enter to continue when you're ready.\")\n",
        "  # guess random number 3 times\n",
        "  # ask user what their number was\n",
        "  # confirm if their number was acceptable\n",
        "  # code for full program ends\n",
        "\n",
        "else:\n",
        "  print(\"Have a nice day!\")"
      ],
      "metadata": {
        "colab": {
          "base_uri": "https://localhost:8080/"
        },
        "id": "zsluV1kolqdI",
        "outputId": "13773bda-017e-4b49-b5f0-5491853d79cb"
      },
      "execution_count": null,
      "outputs": [
        {
          "name": "stdout",
          "output_type": "stream",
          "text": [
            "Hello!\n",
            "This program is designed to play a number guessing game.\n",
            "Please choose a number between 0 and 10!\n",
            "I will then have 3 chances to guess your number.\n",
            "Would you like to play? p\n",
            "I don't know how to interpret that answer, please provide yes or no. y\n"
          ]
        }
      ]
    },
    {
      "cell_type": "markdown",
      "source": [
        "# Bulk of the program"
      ],
      "metadata": {
        "id": "5ykZgFXScnbR"
      }
    },
    {
      "cell_type": "code",
      "source": [
        "import random\n",
        "input(\"Think of a number between 1 and 15.\\nPress enter to continue when you're ready.\")\n",
        "# guess random number 3 times\n",
        "\n",
        "# First ask:\n",
        "\n",
        "guess1 = random.randint(1, 15)\n",
        "answer = input(\"Is your number \" + str(guess1) + \"? \")\n",
        "\n",
        "# They gave an invalid response\n",
        "\n",
        "if answer not in ['yes', 'y', 'no', 'n']:\n",
        "  counter = 0 # reset counter\n",
        "  while answer not in ['yes', 'y', 'no', 'n'] and counter < 3:\n",
        "    counter += 1\n",
        "    answer = input(\"I don't know how to interpret that answer, please provide yes or no. \").lower()\n",
        "    if answer in ['yes', 'y']:\n",
        "      break\n",
        "    elif answer in ['no', 'n']:\n",
        "      break\n",
        "    elif counter >= 3:\n",
        "      print(\"I'm sorry, I can't interpret your answer. Goodbye.\")\n",
        "\n",
        "# They give a valid response (yes, no):\n",
        "else:\n",
        "  # If answer is no:\n",
        "  counter = 0 # reset counter\n",
        "  if answer in [\"no\", 'n']:\n",
        "    while answer in [\"no\", 'n'] and counter < 3:\n",
        "      print(\"Gotcha.\")\n",
        "      guess2 = random.randint(1, 15)\n",
        "      while guess2 == guess1:\n",
        "        guess2 = random.randint(1, 15)\n",
        "      answer = input(\"How about \" + str(guess2) + \"? \")\n",
        "\n",
        "\n",
        "while answer in ['no', 'n']\n",
        "  while answer not in ['yes', 'y', 'no', 'n'] and counter < 3:\n",
        "    counter += 1\n",
        "    answer = input(\"I don't know how to interpret that answer, please provide yes or no. \").lower()\n",
        "  if answer in ['yes', 'y']:\n",
        "    break\n",
        "  elif answer in ['no', 'n']:\n",
        "    break\n",
        "  elif counter >= 3:\n",
        "    print(\"I'm sorry, I can't interpret your answer. Goodbye.\")\n",
        "  break\n",
        "\n",
        "\n",
        "  # If answer is yes:\n",
        "elif answer in ['yes', 'y']:\n",
        "  print(\"Great! Your answer is \" + str(guess) + \"!\")\n",
        "\n",
        "\n",
        "\n",
        "# ask user what their number was\n",
        "\n",
        "# confirm if their number was acceptable\n",
        "\n",
        "\n",
        "# code for full program ends"
      ],
      "metadata": {
        "colab": {
          "base_uri": "https://localhost:8080/",
          "height": 72
        },
        "id": "OVGzSzUfPF8l",
        "outputId": "16c1fcca-e44b-4360-f168-8c4c57052e8e"
      },
      "execution_count": null,
      "outputs": [
        {
          "name": "stdout",
          "output_type": "stream",
          "text": [
            "Think of a number between 1 and 15.\n",
            "Type anything and press enter to continue when you're ready.\n"
          ]
        },
        {
          "output_type": "execute_result",
          "data": {
            "text/plain": [
              "''"
            ],
            "application/vnd.google.colaboratory.intrinsic+json": {
              "type": "string"
            }
          },
          "metadata": {},
          "execution_count": 2
        }
      ]
    },
    {
      "cell_type": "markdown",
      "source": [
        "- Ask the user to provide their answer.\n",
        "If the number is not in that range, tell them to guess again. If it is in the range, write a message.\n",
        "Ask them if they want to play again, if not, stop the program.p\n"
      ],
      "metadata": {
        "id": "sbVkiqIEnNGX"
      }
    },
    {
      "cell_type": "markdown",
      "source": [],
      "metadata": {
        "id": "_IyUfZjEnNI7"
      }
    }
  ]
}